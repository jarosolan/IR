{
 "cells": [
  {
   "cell_type": "code",
   "execution_count": 1,
   "metadata": {},
   "outputs": [],
   "source": [
    "import numpy as np\n",
    "import pandas as pd\n",
    "import re\n",
    "import matplotlib\n",
    "import matplotlib.pyplot as plt\n",
    "import seaborn as sns\n",
    "from sklearn.model_selection import train_test_split\n",
    "from sklearn.feature_extraction.text import CountVectorizer\n",
    "from sklearn.feature_extraction.text import TfidfTransformer\n",
    "from pprint import pprint\n",
    "from sklearn import metrics\n",
    "from sklearn.model_selection import RandomizedSearchCV\n",
    "from sklearn.model_selection import GridSearchCV\n",
    "from sklearn.metrics import classification_report, confusion_matrix, accuracy_score\n",
    "from sklearn.model_selection import ShuffleSplit\n",
    "%matplotlib inline\n",
    "from io import StringIO\n",
    "from sklearn.model_selection import train_test_split\n",
    "from sklearn.feature_extraction.text import TfidfVectorizer\n",
    "from sklearn.naive_bayes import MultinomialNB\n",
    "from sklearn.metrics import accuracy_score\n",
    "from sklearn.multiclass import OneVsRestClassifier\n",
    "from sklearn.svm import LinearSVC\n",
    "from sklearn.linear_model import LogisticRegression\n",
    "from sklearn.pipeline import Pipeline\n",
    "from sklearn.feature_selection import chi2"
   ]
  },
  {
   "cell_type": "code",
   "execution_count": 2,
   "metadata": {},
   "outputs": [
    {
     "data": {
      "text/html": [
       "<div>\n",
       "<style scoped>\n",
       "    .dataframe tbody tr th:only-of-type {\n",
       "        vertical-align: middle;\n",
       "    }\n",
       "\n",
       "    .dataframe tbody tr th {\n",
       "        vertical-align: top;\n",
       "    }\n",
       "\n",
       "    .dataframe thead th {\n",
       "        text-align: right;\n",
       "    }\n",
       "</style>\n",
       "<table border=\"1\" class=\"dataframe\">\n",
       "  <thead>\n",
       "    <tr style=\"text-align: right;\">\n",
       "      <th></th>\n",
       "      <th>category</th>\n",
       "      <th>text</th>\n",
       "    </tr>\n",
       "  </thead>\n",
       "  <tbody>\n",
       "    <tr>\n",
       "      <th>1528</th>\n",
       "      <td>3</td>\n",
       "      <td>HISTORY: , The patient is a 5-1/2-year-old, wh...</td>\n",
       "    </tr>\n",
       "    <tr>\n",
       "      <th>1529</th>\n",
       "      <td>3</td>\n",
       "      <td>REASON FOR VISIT:,  Six-month follow-up visit ...</td>\n",
       "    </tr>\n",
       "    <tr>\n",
       "      <th>1530</th>\n",
       "      <td>3</td>\n",
       "      <td>REASON FOR CONSULTATION:,  Pericardial effusio...</td>\n",
       "    </tr>\n",
       "    <tr>\n",
       "      <th>1531</th>\n",
       "      <td>3</td>\n",
       "      <td>TITLE OF OPERATION: , Ligation (clip interrupt...</td>\n",
       "    </tr>\n",
       "    <tr>\n",
       "      <th>1532</th>\n",
       "      <td>3</td>\n",
       "      <td>PROCEDURE PERFORMED:,  PICC line insertion.,DE...</td>\n",
       "    </tr>\n",
       "  </tbody>\n",
       "</table>\n",
       "</div>"
      ],
      "text/plain": [
       "      category                                               text\n",
       "1528         3  HISTORY: , The patient is a 5-1/2-year-old, wh...\n",
       "1529         3  REASON FOR VISIT:,  Six-month follow-up visit ...\n",
       "1530         3  REASON FOR CONSULTATION:,  Pericardial effusio...\n",
       "1531         3  TITLE OF OPERATION: , Ligation (clip interrupt...\n",
       "1532         3  PROCEDURE PERFORMED:,  PICC line insertion.,DE..."
      ]
     },
     "execution_count": 2,
     "metadata": {},
     "output_type": "execute_result"
    }
   ],
   "source": [
    "df = pd.read_csv('C:/Users/Jared/Dropbox/STUDY/Semester2/IR/Assessment/Text_Classification/text.csv')\n",
    "df.tail()"
   ]
  },
  {
   "cell_type": "code",
   "execution_count": 3,
   "metadata": {},
   "outputs": [],
   "source": [
    "#df = df.sample(n = 300)"
   ]
  },
  {
   "cell_type": "code",
   "execution_count": 3,
   "metadata": {},
   "outputs": [
    {
     "data": {
      "text/plain": [
       "category    0\n",
       "text        0\n",
       "dtype: int64"
      ]
     },
     "execution_count": 3,
     "metadata": {},
     "output_type": "execute_result"
    }
   ],
   "source": [
    "df.isnull().sum()"
   ]
  },
  {
   "cell_type": "code",
   "execution_count": 4,
   "metadata": {},
   "outputs": [
    {
     "name": "stdout",
     "output_type": "stream",
     "text": [
      "<class 'pandas.core.frame.DataFrame'>\n",
      "RangeIndex: 1533 entries, 0 to 1532\n",
      "Data columns (total 2 columns):\n",
      " #   Column    Non-Null Count  Dtype \n",
      "---  ------    --------------  ----- \n",
      " 0   category  1533 non-null   int64 \n",
      " 1   text      1533 non-null   object\n",
      "dtypes: int64(1), object(1)\n",
      "memory usage: 24.1+ KB\n"
     ]
    }
   ],
   "source": [
    "df.info()"
   ]
  },
  {
   "cell_type": "code",
   "execution_count": 5,
   "metadata": {},
   "outputs": [
    {
     "data": {
      "text/plain": [
       "1533"
      ]
     },
     "execution_count": 5,
     "metadata": {},
     "output_type": "execute_result"
    }
   ],
   "source": [
    "len(df)"
   ]
  },
  {
   "cell_type": "code",
   "execution_count": 6,
   "metadata": {},
   "outputs": [
    {
     "data": {
      "text/plain": [
       "2    512\n",
       "1    511\n",
       "3    510\n",
       "Name: category, dtype: int64"
      ]
     },
     "execution_count": 6,
     "metadata": {},
     "output_type": "execute_result"
    }
   ],
   "source": [
    "df['category'].value_counts()"
   ]
  },
  {
   "cell_type": "code",
   "execution_count": 7,
   "metadata": {},
   "outputs": [
    {
     "data": {
      "text/plain": [
       "<AxesSubplot:xlabel='category', ylabel='count'>"
      ]
     },
     "execution_count": 7,
     "metadata": {},
     "output_type": "execute_result"
    },
    {
     "data": {
      "image/png": "[encoded data removed]",
      "text/plain": [
       "<Figure size 432x288 with 1 Axes>"
      ]
     },
     "metadata": {
      "needs_background": "light"
     },
     "output_type": "display_data"
    }
   ],
   "source": [
    "sns.countplot(x=\"category\", data=df)"
   ]
  },
  {
   "cell_type": "code",
   "execution_count": 8,
   "metadata": {},
   "outputs": [
    {
     "data": {
      "text/plain": [
       "<AxesSubplot:>"
      ]
     },
     "execution_count": 8,
     "metadata": {},
     "output_type": "execute_result"
    },
    {
     "data": {
      "image/png": "[encoded data removed]",
      "text/plain": [
       "<Figure size 432x288 with 1 Axes>"
      ]
     },
     "metadata": {
      "needs_background": "light"
     },
     "output_type": "display_data"
    }
   ],
   "source": [
    "lens = df.text.str.len()\n",
    "lens.hist(bins = np.arange(0,10000,50))"
   ]
  },
  {
   "cell_type": "code",
   "execution_count": 9,
   "metadata": {},
   "outputs": [
    {
     "data": {
      "text/html": [
       "<div>\n",
       "<style scoped>\n",
       "    .dataframe tbody tr th:only-of-type {\n",
       "        vertical-align: middle;\n",
       "    }\n",
       "\n",
       "    .dataframe tbody tr th {\n",
       "        vertical-align: top;\n",
       "    }\n",
       "\n",
       "    .dataframe thead th {\n",
       "        text-align: right;\n",
       "    }\n",
       "</style>\n",
       "<table border=\"1\" class=\"dataframe\">\n",
       "  <thead>\n",
       "    <tr style=\"text-align: right;\">\n",
       "      <th></th>\n",
       "      <th>category</th>\n",
       "      <th>text</th>\n",
       "      <th>category_id</th>\n",
       "    </tr>\n",
       "  </thead>\n",
       "  <tbody>\n",
       "    <tr>\n",
       "      <th>0</th>\n",
       "      <td>1</td>\n",
       "      <td>tigers wary of farrell  gamble  leicester say ...</td>\n",
       "      <td>0</td>\n",
       "    </tr>\n",
       "    <tr>\n",
       "      <th>1</th>\n",
       "      <td>1</td>\n",
       "      <td>yeading face newcastle in fa cup premiership s...</td>\n",
       "      <td>0</td>\n",
       "    </tr>\n",
       "    <tr>\n",
       "      <th>2</th>\n",
       "      <td>1</td>\n",
       "      <td>henman hopes ended in dubai third seed tim hen...</td>\n",
       "      <td>0</td>\n",
       "    </tr>\n",
       "    <tr>\n",
       "      <th>3</th>\n",
       "      <td>1</td>\n",
       "      <td>wilkinson fit to face edinburgh england captai...</td>\n",
       "      <td>0</td>\n",
       "    </tr>\n",
       "    <tr>\n",
       "      <th>4</th>\n",
       "      <td>1</td>\n",
       "      <td>moya emotional after davis cup win carlos moya...</td>\n",
       "      <td>0</td>\n",
       "    </tr>\n",
       "  </tbody>\n",
       "</table>\n",
       "</div>"
      ],
      "text/plain": [
       "   category                                               text  category_id\n",
       "0         1  tigers wary of farrell  gamble  leicester say ...            0\n",
       "1         1  yeading face newcastle in fa cup premiership s...            0\n",
       "2         1  henman hopes ended in dubai third seed tim hen...            0\n",
       "3         1  wilkinson fit to face edinburgh england captai...            0\n",
       "4         1  moya emotional after davis cup win carlos moya...            0"
      ]
     },
     "execution_count": 9,
     "metadata": {},
     "output_type": "execute_result"
    }
   ],
   "source": [
    "col = ['category', 'text']\n",
    "df = df[col]\n",
    "df = df[pd.notnull(df['text'])]\n",
    "df.columns = ['category', 'text']\n",
    "\n",
    "df['category_id'] = df['category'].factorize()[0]\n",
    "\n",
    "category_id_df = df[['category',\n",
    "                     'category_id']].drop_duplicates().sort_values('category_id')\n",
    "\n",
    "category_to_id = dict(category_id_df.values)\n",
    "id_to_category = dict(category_id_df[['category_id', 'category']].values)\n",
    "df.head()"
   ]
  },
  {
   "cell_type": "code",
   "execution_count": 10,
   "metadata": {},
   "outputs": [
    {
     "data": {
      "text/plain": [
       "\"PREOPERATIVE DIAGNOSIS: , Right lateral base of tongue lesion, probable cancer.,POSTOPERATIVE DIAGNOSIS: , Right lateral base of tongue lesion, probable cancer.,PROCEDURE PERFORMED:  ,Excisional biopsy with primary closure of a 4 mm right lateral base of tongue lesion.,ANESTHESIA: , General.,FINDINGS: , An ulceration in the right lateral base of tongue region.  This was completely excised.,ESTIMATED BLOOD LOSS:,  Less than 5 mL.,FLUIDS: , Crystalloid only.,COMPLICATIONS:,  None.,DRAINS:,  None.,CONDITION:,  Stable.,PROCEDURE:  ,The patient placed supine in position under general anesthesia.  First a Sweetheart gag was placed in the patient's mouth and the mouth was elevated.  The lesion in the tongue could be seen.  Then, it was injected with 1% lidocaine and 1:100,00 epinephrine.  After 5 minutes of waiting, then an elliptical incision was made around this mass with electrocautery and then it was sharply dissected off the muscular layer and removed in total.  Suction cautery was used for hemostasis.  Then, 3 simple interrupted #4-0 Vicryl sutures were used to close the wound and procedure was then terminated at that time.\""
      ]
     },
     "execution_count": 10,
     "metadata": {},
     "output_type": "execute_result"
    }
   ],
   "source": [
    "df['text'][1111]"
   ]
  },
  {
   "cell_type": "code",
   "execution_count": 11,
   "metadata": {},
   "outputs": [],
   "source": [
    "def clean_text(text):\n",
    "    text = text.lower()\n",
    "    text = re.sub(r\"what's\", \"what is \", text)\n",
    "    text = re.sub(r\"\\'s\", \" \", text)\n",
    "    text = re.sub(r\"\\'ve\", \" have \", text)\n",
    "    text = re.sub(r\"can't\", \"can not \", text)\n",
    "    text = re.sub(r\"n't\", \" not \", text)\n",
    "    text = re.sub(r\"i'm\", \"i am \", text)\n",
    "    text = re.sub(r\"\\'re\", \" are \", text)\n",
    "    text = re.sub(r\"\\'d\", \" would \", text)\n",
    "    text = re.sub(r\"\\'ll\", \" will \", text)\n",
    "    text = re.sub(r\"\\'scuse\", \" excuse \", text)\n",
    "    text = re.sub('\\W', ' ', text)\n",
    "    text = re.sub('\\s+', ' ', text)\n",
    "    text = text.strip(' ')\n",
    "    return text"
   ]
  },
  {
   "cell_type": "code",
   "execution_count": 12,
   "metadata": {},
   "outputs": [
    {
     "data": {
      "text/plain": [
       "'preoperative diagnosis right lateral base of tongue lesion probable cancer postoperative diagnosis right lateral base of tongue lesion probable cancer procedure performed excisional biopsy with primary closure of a 4 mm right lateral base of tongue lesion anesthesia general findings an ulceration in the right lateral base of tongue region this was completely excised estimated blood loss less than 5 ml fluids crystalloid only complications none drains none condition stable procedure the patient placed supine in position under general anesthesia first a sweetheart gag was placed in the patient mouth and the mouth was elevated the lesion in the tongue could be seen then it was injected with 1 lidocaine and 1 100 00 epinephrine after 5 minutes of waiting then an elliptical incision was made around this mass with electrocautery and then it was sharply dissected off the muscular layer and removed in total suction cautery was used for hemostasis then 3 simple interrupted 4 0 vicryl sutures were used to close the wound and procedure was then terminated at that time'"
      ]
     },
     "execution_count": 12,
     "metadata": {},
     "output_type": "execute_result"
    }
   ],
   "source": [
    "df['text'] = df['text'].map(lambda com : clean_text(com))\n",
    "df['text'][1111] #sample of standardised data"
   ]
  },
  {
   "cell_type": "code",
   "execution_count": 13,
   "metadata": {},
   "outputs": [
    {
     "data": {
      "text/plain": [
       "(1533, 9232)"
      ]
     },
     "execution_count": 13,
     "metadata": {},
     "output_type": "execute_result"
    }
   ],
   "source": [
    "tfidf = TfidfVectorizer(sublinear_tf=True, min_df=5, norm='l2', \n",
    "                        encoding='latin-1', ngram_range=(1, 2), stop_words='english')\n",
    "features = tfidf.fit_transform(df.text).toarray()\n",
    "labels = df.category\n",
    "features.shape\n",
    "# 1533 senteces with 9232 features,\n",
    "#representing the tf-idf score for different unigrams and bigrams."
   ]
  },
  {
   "cell_type": "code",
   "execution_count": 14,
   "metadata": {},
   "outputs": [
    {
     "name": "stdout",
     "output_type": "stream",
     "text": [
      "# '0':\n",
      "  . Most correlated unigrams:\n",
      ". fasciotomy\n",
      ". fibular\n",
      "  . Most correlated bigrams:\n",
      ". fascia reapproximated\n",
      ". zurich premiership\n",
      "# '1':\n",
      "  . Most correlated unigrams:\n",
      ". win\n",
      ". said\n",
      "  . Most correlated bigrams:\n",
      ". champions league\n",
      ". told bbc\n",
      "# '2':\n",
      "  . Most correlated unigrams:\n",
      ". self\n",
      ". citation\n",
      "  . Most correlated bigrams:\n",
      ". pro social\n",
      ". self control\n"
     ]
    }
   ],
   "source": [
    "N = 2\n",
    "for text, category in sorted(category_to_id.items()):\n",
    "  features_chi2 = chi2(features, labels == category)\n",
    "  indices = np.argsort(features_chi2[0])\n",
    "  feature_names = np.array(tfidf.get_feature_names())[indices]\n",
    "  unigrams = [v for v in feature_names if len(v.split(' ')) == 1]\n",
    "  bigrams = [v for v in feature_names if len(v.split(' ')) == 2]\n",
    "  print(\"# '{}':\".format(category))\n",
    "  print(\"  . Most correlated unigrams:\\n. {}\".format('\\n. '.join(unigrams[-N:])))\n",
    "  print(\"  . Most correlated bigrams:\\n. {}\".format('\\n. '.join(bigrams[-N:])))"
   ]
  },
  {
   "cell_type": "code",
   "execution_count": 15,
   "metadata": {},
   "outputs": [],
   "source": [
    "X_train, X_test, y_train, y_test = train_test_split(df['text'], df['category'],\n",
    "                                                    test_size=0.5, random_state = 0)"
   ]
  },
  {
   "cell_type": "code",
   "execution_count": 16,
   "metadata": {},
   "outputs": [],
   "source": [
    "count_vect = CountVectorizer()\n",
    "X_train_counts = count_vect.fit_transform(X_train)\n",
    "tfidf_transformer = TfidfTransformer()\n",
    "X_train_tfidf = tfidf_transformer.fit_transform(X_train_counts)\n",
    "clf = MultinomialNB().fit(X_train_tfidf, y_train)"
   ]
  },
  {
   "cell_type": "code",
   "execution_count": 18,
   "metadata": {},
   "outputs": [
    {
     "name": "stdout",
     "output_type": "stream",
     "text": [
      "[2]\n"
     ]
    }
   ],
   "source": [
    "### CONSOLE TO CHECK CURRENT CLASS ### \n",
    "print(clf.predict(count_vect.transform([\"a detailed mathematical representation of the student distribution\"])))"
   ]
  },
  {
   "cell_type": "code",
   "execution_count": 19,
   "metadata": {},
   "outputs": [
    {
     "data": {
      "text/plain": [
       "965     to tease apart these accounts schwarz et al ci...\n",
       "83      pearce keen on succeeding keegan joint assista...\n",
       "966     participants rated themselves as more assertiv...\n",
       "154     munster cup tie switched to spain munster s he...\n",
       "1072    preoperative diagnoses left cubital tunnel syn...\n",
       "                              ...                        \n",
       "763     to explore our hypothesis that the problem of ...\n",
       "835     the dynamics of a protein are very sensitive t...\n",
       "1216    preoperative diagnoses left obstructed renal u...\n",
       "559     at physiological firing rates stochastic gatin...\n",
       "684     a detailed mathematical representation of the ...\n",
       "Name: text, Length: 766, dtype: object"
      ]
     },
     "execution_count": 19,
     "metadata": {},
     "output_type": "execute_result"
    }
   ],
   "source": [
    "X_test_counts = count_vect.fit_transform(X_test)\n",
    "X_test_tfidf = tfidf_transformer.fit_transform(X_test_counts)\n",
    "X_train"
   ]
  },
  {
   "cell_type": "code",
   "execution_count": 20,
   "metadata": {},
   "outputs": [
    {
     "data": {
      "image/png": "[encoded data removed]",
      "text/plain": [
       "<Figure size 432x288 with 1 Axes>"
      ]
     },
     "metadata": {
      "needs_background": "light"
     },
     "output_type": "display_data"
    }
   ],
   "source": [
    "# Checking models accuracy\n",
    "from sklearn.linear_model import LogisticRegression\n",
    "from sklearn.ensemble import RandomForestClassifier\n",
    "from sklearn.svm import LinearSVC\n",
    "from sklearn.model_selection import cross_val_score\n",
    "models = [\n",
    "    RandomForestClassifier(n_estimators=100, max_depth=3, random_state=0),\n",
    "    LinearSVC(),\n",
    "    MultinomialNB(),\n",
    "    LogisticRegression(random_state=0),\n",
    "]\n",
    "CV = 5\n",
    "cv_df = pd.DataFrame(index=range(CV * len(models)))\n",
    "entries = []\n",
    "for model in models:\n",
    "  model_name = model.__class__.__name__\n",
    "  accuracies = cross_val_score(model, features, labels, scoring='accuracy', cv=CV)\n",
    "  for fold_idx, accuracy in enumerate(accuracies):\n",
    "    entries.append((model_name, fold_idx, accuracy))\n",
    "cv_df = pd.DataFrame(entries, columns=['model_name', 'fold_idx', 'accuracy'])\n",
    "import seaborn as sns\n",
    "sns.boxplot(x='model_name', y='accuracy', data=cv_df)\n",
    "sns.stripplot(x='model_name', y='accuracy', data=cv_df, \n",
    "              size=8, jitter=True, edgecolor=\"gray\", linewidth=2)\n",
    "plt.show()"
   ]
  },
  {
   "cell_type": "code",
   "execution_count": 55,
   "metadata": {},
   "outputs": [
    {
     "data": {
      "text/plain": [
       "model_name\n",
       "LinearSVC                 0.996732\n",
       "LogisticRegression        0.994122\n",
       "MultinomialNB             0.982364\n",
       "RandomForestClassifier    0.943205\n",
       "Name: accuracy, dtype: float64"
      ]
     },
     "execution_count": 55,
     "metadata": {},
     "output_type": "execute_result"
    }
   ],
   "source": [
    "cv_df.groupby('model_name').accuracy.mean()"
   ]
  },
  {
   "cell_type": "code",
   "execution_count": 40,
   "metadata": {},
   "outputs": [],
   "source": [
    "model = LinearSVC()\n",
    "X_train, X_test, y_train, y_test, indices_train, indices_test = train_test_split(features,\n",
    "                                                                                 labels,\n",
    "                                                                                 df.index,\n",
    "                                                                                 test_size=0.5,\n",
    "                                                                                 random_state=0)\n",
    "model.fit(X_train, y_train)\n",
    "y_pred = model.predict(X_test)"
   ]
  },
  {
   "cell_type": "code",
   "execution_count": 46,
   "metadata": {},
   "outputs": [
    {
     "data": {
      "text/plain": [
       "479     1\n",
       "1057    3\n",
       "1366    3\n",
       "298     1\n",
       "651     2\n",
       "       ..\n",
       "1324    3\n",
       "862     2\n",
       "781     2\n",
       "592     2\n",
       "907     2\n",
       "Name: category, Length: 767, dtype: int64"
      ]
     },
     "execution_count": 46,
     "metadata": {},
     "output_type": "execute_result"
    }
   ],
   "source": [
    "y_test"
   ]
  },
  {
   "cell_type": "code",
   "execution_count": 42,
   "metadata": {
    "scrolled": true
   },
   "outputs": [
    {
     "data": {
      "text/plain": [
       "array([1, 3, 3, 1, 2, 3, 3, 1, 3, 3, 1, 1, 3, 2, 2, 1, 1, 3, 2, 2, 3, 1,\n",
       "       1, 1, 2, 2, 3, 1, 1, 3, 3, 1, 2, 3, 2, 3, 3, 3, 2, 2, 1, 2, 3, 2,\n",
       "       2, 1, 3, 3, 3, 1, 3, 2, 3, 3, 3, 2, 3, 1, 2, 1, 1, 1, 3, 2, 3, 2,\n",
       "       3, 1, 2, 3, 2, 1, 1, 1, 2, 1, 1, 3, 2, 2, 2, 1, 3, 3, 1, 1, 2, 2,\n",
       "       1, 2, 3, 3, 1, 2, 1, 3, 2, 2, 2, 2, 2, 3, 1, 3, 3, 1, 3, 1, 2, 3,\n",
       "       1, 1, 2, 1, 1, 2, 3, 2, 1, 2, 3, 3, 1, 1, 1, 3, 2, 1, 2, 3, 3, 2,\n",
       "       2, 1, 2, 1, 3, 1, 3, 3, 2, 1, 2, 1, 2, 2, 1, 2, 2, 2, 1, 1, 1, 3,\n",
       "       3, 3, 1, 2, 2, 2, 1, 3, 3, 2, 1, 3, 1, 1, 3, 1, 1, 1, 2, 1, 1, 1,\n",
       "       1, 1, 2, 3, 3, 1, 1, 2, 1, 2, 1, 2, 2, 2, 3, 3, 2, 3, 1, 2, 3, 3,\n",
       "       3, 2, 3, 3, 3, 2, 1, 1, 3, 3, 2, 2, 2, 2, 1, 2, 2, 1, 1, 2, 3, 3,\n",
       "       2, 3, 1, 1, 1, 1, 2, 1, 2, 2, 1, 2, 3, 2, 1, 1, 1, 1, 3, 2, 3, 1,\n",
       "       3, 1, 3, 1, 2, 1, 2, 1, 1, 3, 1, 2, 2, 2, 1, 2, 1, 3, 3, 2, 2, 3,\n",
       "       1, 2, 3, 2, 1, 1, 1, 1, 1, 2, 3, 1, 3, 1, 3, 1, 3, 2, 3, 1, 3, 2,\n",
       "       1, 2, 2, 2, 2, 3, 3, 1, 1, 1, 2, 1, 2, 1, 2, 1, 2, 1, 3, 3, 3, 2,\n",
       "       1, 3, 2, 2, 3, 2, 2, 3, 2, 1, 2, 2, 1, 3, 2, 1, 3, 2, 2, 3, 1, 3,\n",
       "       2, 1, 3, 1, 1, 1, 3, 2, 1, 3, 1, 3, 2, 3, 2, 3, 3, 1, 1, 1, 1, 3,\n",
       "       2, 3, 1, 2, 3, 2, 2, 3, 3, 2, 2, 2, 1, 1, 1, 3, 1, 3, 3, 3, 2, 1,\n",
       "       1, 2, 3, 2, 3, 2, 3, 3, 3, 3, 1, 3, 1, 3, 3, 3, 1, 3, 2, 2, 2, 1,\n",
       "       2, 2, 1, 2, 2, 3, 1, 3, 1, 2, 3, 3, 2, 3, 1, 2, 2, 3, 2, 1, 1, 1,\n",
       "       2, 1, 1, 2, 3, 2, 2, 3, 3, 3, 2, 2, 3, 3, 3, 3, 2, 3, 2, 2, 1, 1,\n",
       "       3, 2, 2, 3, 3, 2, 2, 2, 1, 3, 1, 1, 1, 2, 3, 2, 3, 3, 3, 3, 3, 2,\n",
       "       3, 3, 2, 3, 2, 1, 3, 2, 2, 3, 2, 1, 1, 2, 1, 2, 2, 2, 3, 1, 3, 2,\n",
       "       2, 3, 2, 3, 2, 3, 2, 3, 2, 3, 2, 3, 3, 3, 1, 1, 1, 1, 3, 2, 3, 3,\n",
       "       2, 1, 2, 3, 2, 2, 3, 3, 3, 1, 3, 1, 2, 1, 3, 1, 3, 2, 2, 1, 3, 1,\n",
       "       1, 1, 1, 2, 1, 3, 3, 1, 1, 1, 2, 1, 2, 2, 3, 1, 3, 3, 1, 2, 1, 1,\n",
       "       1, 2, 3, 2, 2, 3, 1, 3, 3, 2, 2, 3, 1, 3, 1, 1, 3, 3, 1, 3, 3, 2,\n",
       "       3, 1, 1, 3, 2, 1, 1, 3, 3, 1, 1, 3, 1, 1, 2, 1, 1, 1, 2, 1, 1, 1,\n",
       "       1, 3, 3, 3, 2, 3, 1, 1, 3, 2, 2, 2, 1, 3, 3, 3, 3, 2, 1, 3, 3, 1,\n",
       "       2, 1, 3, 3, 2, 3, 2, 2, 2, 3, 1, 3, 1, 1, 2, 1, 2, 3, 1, 1, 3, 3,\n",
       "       1, 2, 2, 2, 2, 3, 3, 1, 1, 2, 2, 3, 3, 1, 3, 1, 2, 1, 2, 2, 3, 2,\n",
       "       3, 3, 1, 1, 1, 3, 3, 2, 3, 1, 3, 3, 2, 3, 2, 1, 3, 1, 1, 1, 3, 2,\n",
       "       2, 1, 3, 2, 2, 1, 3, 2, 2, 1, 3, 3, 3, 3, 3, 1, 2, 2, 3, 3, 1, 1,\n",
       "       2, 3, 3, 2, 2, 1, 1, 2, 3, 1, 2, 2, 3, 2, 2, 1, 1, 1, 3, 3, 3, 3,\n",
       "       2, 3, 2, 3, 2, 2, 2, 1, 2, 1, 3, 3, 3, 3, 1, 2, 1, 1, 1, 2, 1, 1,\n",
       "       1, 2, 1, 2, 1, 3, 2, 2, 1, 1, 3, 3, 2, 3, 3, 2, 2, 2, 2],\n",
       "      dtype=int64)"
      ]
     },
     "execution_count": 42,
     "metadata": {},
     "output_type": "execute_result"
    }
   ],
   "source": [
    "y_pred"
   ]
  },
  {
   "cell_type": "code",
   "execution_count": 43,
   "metadata": {},
   "outputs": [
    {
     "data": {
      "text/plain": [
       "array([[254,   0,   0],\n",
       "       [  0, 252,   0],\n",
       "       [  0,   0, 261]], dtype=int64)"
      ]
     },
     "execution_count": 43,
     "metadata": {},
     "output_type": "execute_result"
    }
   ],
   "source": [
    "from sklearn.metrics import confusion_matrix\n",
    "conf_mat = confusion_matrix(y_test, y_pred)\n",
    "conf_mat"
   ]
  },
  {
   "cell_type": "code",
   "execution_count": 44,
   "metadata": {},
   "outputs": [
    {
     "data": {
      "image/png": "[encoded data removed]",
      "text/plain": [
       "<Figure size 432x432 with 2 Axes>"
      ]
     },
     "metadata": {
      "needs_background": "light"
     },
     "output_type": "display_data"
    }
   ],
   "source": [
    "fig, ax = plt.subplots(figsize=(6,6))\n",
    "sns.heatmap(conf_mat, annot=True, fmt='d',\n",
    "            xticklabels=category_id_df.category.values, yticklabels=category_id_df.category.values)\n",
    "plt.ylabel('Actual class')\n",
    "plt.xlabel('Predicted class')\n",
    "plt.title('Confusion matrix')\n",
    "plt.show()"
   ]
  },
  {
   "cell_type": "code",
   "execution_count": 47,
   "metadata": {},
   "outputs": [],
   "source": [
    "target_names = ['Sport', 'Science', 'Health']"
   ]
  },
  {
   "cell_type": "code",
   "execution_count": 48,
   "metadata": {
    "scrolled": true
   },
   "outputs": [
    {
     "name": "stdout",
     "output_type": "stream",
     "text": [
      "              precision    recall  f1-score   support\n",
      "\n",
      "       Sport       1.00      1.00      1.00       254\n",
      "     Science       1.00      1.00      1.00       252\n",
      "      Health       1.00      1.00      1.00       261\n",
      "\n",
      "    accuracy                           1.00       767\n",
      "   macro avg       1.00      1.00      1.00       767\n",
      "weighted avg       1.00      1.00      1.00       767\n",
      "\n"
     ]
    }
   ],
   "source": [
    "print(metrics.classification_report(y_test, y_pred, target_names=target_names))"
   ]
  },
  {
   "cell_type": "code",
   "execution_count": 49,
   "metadata": {},
   "outputs": [
    {
     "data": {
      "text/plain": [
       "MultinomialNB()"
      ]
     },
     "execution_count": 49,
     "metadata": {},
     "output_type": "execute_result"
    }
   ],
   "source": [
    "mnbc = MultinomialNB()\n",
    "mnbc.fit(X_train, y_train)"
   ]
  },
  {
   "cell_type": "code",
   "execution_count": 50,
   "metadata": {},
   "outputs": [
    {
     "data": {
      "text/plain": [
       "(767,)"
      ]
     },
     "execution_count": 50,
     "metadata": {},
     "output_type": "execute_result"
    }
   ],
   "source": [
    "mnbc_pred = mnbc.predict(X_test)\n",
    "mnbc_pred.shape"
   ]
  },
  {
   "cell_type": "code",
   "execution_count": 51,
   "metadata": {},
   "outputs": [
    {
     "name": "stdout",
     "output_type": "stream",
     "text": [
      "The training accuracy is: \n",
      "[1 3 3 1 2 3 3 1 3 3 1 1 3 2 2 1 1 3 2 2 3 1 1 1 2 2 3 1 1 3 3 1 2 3 2 3 3\n",
      " 3 2 2 1 2 3 2 2 1 3 3 3 1 3 2 3 3 3 2 3 1 2 1 1 1 3 2 3 2 3 1 2 3 2 1 1 1\n",
      " 2 1 1 3 2 2 2 1 3 3 1 1 2 2 1 2 3 3 1 2 1 3 2 2 2 2 2 3 1 3 3 1 3 1 2 3 1\n",
      " 1 3 1 1 2 3 2 1 2 3 3 1 1 1 3 2 1 2 3 3 3 2 1 2 1 3 1 3 3 2 1 2 1 2 2 1 2\n",
      " 2 2 1 1 1 3 3 3 1 2 2 2 1 3 3 2 1 3 1 1 3 1 1 1 2 1 1 1 1 1 2 3 3 1 1 2 1\n",
      " 2 1 1 2 2 3 3 2 3 1 2 3 3 3 2 3 3 3 2 1 1 3 3 2 2 2 2 1 2 2 1 1 2 3 3 2 3\n",
      " 1 1 1 1 2 1 2 2 1 2 3 2 1 1 1 1 3 2 3 1 3 1 3 1 2 1 1 1 1 3 1 2 2 2 1 2 1\n",
      " 3 3 2 2 3 1 2 3 2 1 1 1 1 1 2 3 1 3 1 3 1 3 2 3 1 3 2 1 2 2 2 2 3 3 1 1 1\n",
      " 2 1 2 1 2 1 2 1 3 3 3 2 1 3 2 2 3 2 2 3 2 1 2 2 1 3 2 1 3 2 2 3 1 3 2 1 3\n",
      " 1 1 1 3 2 1 3 1 3 2 3 2 3 3 1 1 1 1 3 2 3 1 2 3 2 2 3 3 2 2 2 1 1 1 3 1 3\n",
      " 3 3 2 1 1 2 3 2 3 2 3 3 3 3 1 3 1 3 3 3 1 3 2 2 2 1 2 2 1 2 2 3 1 3 1 2 3\n",
      " 3 2 3 1 2 2 3 2 1 1 1 2 1 1 2 3 2 2 3 3 3 2 2 3 3 3 3 2 3 2 2 1 1 3 2 2 3\n",
      " 3 2 2 2 1 3 1 1 1 2 3 2 3 3 3 3 3 2 3 3 2 3 2 1 3 2 2 3 2 1 1 2 1 2 2 2 3\n",
      " 1 3 2 2 3 2 3 1 3 2 3 2 3 2 3 3 3 1 1 1 1 3 2 3 3 2 1 2 3 2 2 3 3 3 1 3 1\n",
      " 2 1 3 1 3 2 2 1 3 1 1 1 1 2 1 3 3 1 1 1 2 1 2 2 3 1 3 3 1 2 1 1 1 2 3 2 2\n",
      " 3 1 3 3 2 2 3 1 3 1 1 3 3 1 3 3 2 3 1 1 3 2 1 1 3 3 1 1 3 1 1 2 1 1 1 2 1\n",
      " 1 1 1 3 3 3 2 3 1 1 3 2 2 2 1 3 3 3 3 2 1 3 3 1 2 1 3 3 2 3 2 2 2 3 1 3 1\n",
      " 1 2 1 2 3 1 1 3 3 1 2 2 2 2 3 3 1 1 2 2 3 3 1 3 1 2 1 2 2 3 2 3 3 1 1 1 3\n",
      " 3 2 3 1 3 3 2 3 2 1 3 1 1 1 3 2 2 1 3 2 2 1 3 2 2 1 3 3 3 3 3 1 2 2 3 3 1\n",
      " 1 2 3 3 2 2 1 1 2 3 1 2 2 3 2 2 1 1 1 3 3 3 3 2 3 2 3 3 2 2 1 2 1 3 3 3 3\n",
      " 1 2 1 1 1 2 1 1 1 2 1 2 1 3 2 3 1 1 3 3 2 3 3 2 3 2 2]\n",
      "1.0\n"
     ]
    }
   ],
   "source": [
    "### Training accuracy\n",
    "print(\"The training accuracy is: \")\n",
    "print(mnbc_pred)\n",
    "print(accuracy_score(y_train, mnbc.predict(X_train)))"
   ]
  },
  {
   "cell_type": "code",
   "execution_count": 52,
   "metadata": {},
   "outputs": [
    {
     "name": "stdout",
     "output_type": "stream",
     "text": [
      "The test accuracy is: \n",
      "0.9895697522816167\n"
     ]
    }
   ],
   "source": [
    "### Test accuracy\n",
    "print(\"The test accuracy is: \")\n",
    "print(accuracy_score(y_test, mnbc_pred))"
   ]
  }
 ],
 "metadata": {
  "kernelspec": {
   "display_name": "Python 3",
   "language": "python",
   "name": "python3"
  },
  "language_info": {
   "codemirror_mode": {
    "name": "ipython",
    "version": 3
   },
   "file_extension": ".py",
   "mimetype": "text/x-python",
   "name": "python",
   "nbconvert_exporter": "python",
   "pygments_lexer": "ipython3",
   "version": "3.7.3"
  }
 },
 "nbformat": 4,
 "nbformat_minor": 2
}
